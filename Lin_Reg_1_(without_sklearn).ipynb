{
  "nbformat": 4,
  "nbformat_minor": 0,
  "metadata": {
    "colab": {
      "name": "Lin_Reg_1 (without sklearn).ipynb",
      "provenance": [],
      "authorship_tag": "ABX9TyNlo7RUaLKX4tedYYueGvku",
      "include_colab_link": true
    },
    "kernelspec": {
      "name": "python3",
      "display_name": "Python 3"
    }
  },
  "cells": [
    {
      "cell_type": "markdown",
      "metadata": {
        "id": "view-in-github",
        "colab_type": "text"
      },
      "source": [
        "<a href=\"https://colab.research.google.com/github/SidharrthSingh25/Sem_4_ML-AI/blob/main/Lin_Reg_1_(without_sklearn).ipynb\" target=\"_parent\"><img src=\"https://colab.research.google.com/assets/colab-badge.svg\" alt=\"Open In Colab\"/></a>"
      ]
    },
    {
      "cell_type": "markdown",
      "metadata": {
        "id": "6gfgirNGMDhB"
      },
      "source": [
        "## 1. DATA PREPROCESSING"
      ]
    },
    {
      "cell_type": "markdown",
      "metadata": {
        "id": "aA4AVoJmL0N-"
      },
      "source": [
        "1.1 IMPORTING LIBRARIES\r\n"
      ]
    },
    {
      "cell_type": "code",
      "metadata": {
        "id": "PNLicQt3LmJ6"
      },
      "source": [
        "import numpy as np\r\n",
        "import matplotlib.pyplot as plt\r\n",
        "import pandas as pd"
      ],
      "execution_count": 19,
      "outputs": []
    },
    {
      "cell_type": "markdown",
      "metadata": {
        "id": "9jT6tI8dL7Fg"
      },
      "source": [
        "1.2 IMPORTING DATATSETS"
      ]
    },
    {
      "cell_type": "code",
      "metadata": {
        "id": "rk9E4acKMJlJ"
      },
      "source": [
        "dataset = pd.read_csv ('headbrain.csv')\r\n",
        "X = dataset.iloc [ : ,2].values\r\n",
        "Y = dataset.iloc [ : ,-1].values"
      ],
      "execution_count": 20,
      "outputs": []
    },
    {
      "cell_type": "code",
      "metadata": {
        "colab": {
          "base_uri": "https://localhost:8080/"
        },
        "id": "s8t-AhgCetZH",
        "outputId": "c3598068-c253-4fdd-a812-a51aee227514"
      },
      "source": [
        "print (dataset)"
      ],
      "execution_count": 21,
      "outputs": [
        {
          "output_type": "stream",
          "text": [
            "     Gender  Age Range  Head Size(cm^3)  Brain Weight(grams)\n",
            "0         1          1             4512                 1530\n",
            "1         1          1             3738                 1297\n",
            "2         1          1             4261                 1335\n",
            "3         1          1             3777                 1282\n",
            "4         1          1             4177                 1590\n",
            "..      ...        ...              ...                  ...\n",
            "232       2          2             3214                 1110\n",
            "233       2          2             3394                 1215\n",
            "234       2          2             3233                 1104\n",
            "235       2          2             3352                 1170\n",
            "236       2          2             3391                 1120\n",
            "\n",
            "[237 rows x 4 columns]\n"
          ],
          "name": "stdout"
        }
      ]
    },
    {
      "cell_type": "code",
      "metadata": {
        "colab": {
          "base_uri": "https://localhost:8080/"
        },
        "id": "zoK4TXjNeZlm",
        "outputId": "1e57a1b5-3c26-4a4e-8683-a2a86f7a0fd7"
      },
      "source": [
        "print (X)"
      ],
      "execution_count": 22,
      "outputs": [
        {
          "output_type": "stream",
          "text": [
            "[4512 3738 4261 3777 4177 3585 3785 3559 3613 3982 3443 3993 3640 4208\n",
            " 3832 3876 3497 3466 3095 4424 3878 4046 3804 3710 4747 4423 4036 4022\n",
            " 3454 4175 3787 3796 4103 4161 4158 3814 3527 3748 3334 3492 3962 3505\n",
            " 4315 3804 3863 4034 4308 3165 3641 3644 3891 3793 4270 4063 4012 3458\n",
            " 3890 4166 3935 3669 3866 3393 4442 4253 3727 3329 3415 3372 4430 4381\n",
            " 4008 3858 4121 4057 3824 3394 3558 3362 3930 3835 3830 3856 3249 3577\n",
            " 3933 3850 3309 3406 3506 3907 4160 3318 3662 3899 3700 3779 3473 3490\n",
            " 3654 3478 3495 3834 3876 3661 3618 3648 4032 3399 3916 4430 3695 3524\n",
            " 3571 3594 3383 3499 3589 3900 4114 3937 3399 4200 4488 3614 4051 3782\n",
            " 3391 3124 4053 3582 3666 3532 4046 3667 2857 3436 3791 3302 3104 3171\n",
            " 3572 3530 3175 3438 3903 3899 3401 3267 3451 3090 3413 3323 3680 3439\n",
            " 3853 3156 3279 3707 4006 3269 3071 3779 3548 3292 3497 3082 3248 3358\n",
            " 3803 3566 3145 3503 3571 3724 3615 3203 3609 3561 3979 3533 3689 3158\n",
            " 4005 3181 3479 3642 3632 3069 3394 3703 3165 3354 3000 3687 3556 2773\n",
            " 3058 3344 3493 3297 3360 3228 3277 3851 3067 3692 3402 3995 3318 2720\n",
            " 2937 3580 2939 2989 3586 3156 3246 3170 3268 3389 3381 2864 3740 3479\n",
            " 3647 3716 3284 4204 3735 3218 3685 3704 3214 3394 3233 3352 3391]\n"
          ],
          "name": "stdout"
        }
      ]
    },
    {
      "cell_type": "code",
      "metadata": {
        "colab": {
          "base_uri": "https://localhost:8080/"
        },
        "id": "BnVgCuBteeEX",
        "outputId": "e08da5f3-97ad-47a7-cd85-d53fa1d01ede"
      },
      "source": [
        "print (Y)"
      ],
      "execution_count": 23,
      "outputs": [
        {
          "output_type": "stream",
          "text": [
            "[1530 1297 1335 1282 1590 1300 1400 1255 1355 1375 1340 1380 1355 1522\n",
            " 1208 1405 1358 1292 1340 1400 1357 1287 1275 1270 1635 1505 1490 1485\n",
            " 1310 1420 1318 1432 1364 1405 1432 1207 1375 1350 1236 1250 1350 1320\n",
            " 1525 1570 1340 1422 1506 1215 1311 1300 1224 1350 1335 1390 1400 1225\n",
            " 1310 1560 1330 1222 1415 1175 1330 1485 1470 1135 1310 1154 1510 1415\n",
            " 1468 1390 1380 1432 1240 1195 1225 1188 1252 1315 1245 1430 1279 1245\n",
            " 1309 1412 1120 1220 1280 1440 1370 1192 1230 1346 1290 1165 1240 1132\n",
            " 1242 1270 1218 1430 1588 1320 1290 1260 1425 1226 1360 1620 1310 1250\n",
            " 1295 1290 1290 1275 1250 1270 1362 1300 1173 1256 1440 1180 1306 1350\n",
            " 1125 1165 1312 1300 1270 1335 1450 1310 1027 1235 1260 1165 1080 1127\n",
            " 1270 1252 1200 1290 1334 1380 1140 1243 1340 1168 1322 1249 1321 1192\n",
            " 1373 1170 1265 1235 1302 1241 1078 1520 1460 1075 1280 1180 1250 1190\n",
            " 1374 1306 1202 1240 1316 1280 1350 1180 1210 1127 1324 1210 1290 1100\n",
            " 1280 1175 1160 1205 1163 1022 1243 1350 1237 1204 1090 1355 1250 1076\n",
            " 1120 1220 1240 1220 1095 1235 1105 1405 1150 1305 1220 1296 1175  955\n",
            " 1070 1320 1060 1130 1250 1225 1180 1178 1142 1130 1185 1012 1280 1103\n",
            " 1408 1300 1246 1380 1350 1060 1350 1220 1110 1215 1104 1170 1120]\n"
          ],
          "name": "stdout"
        }
      ]
    },
    {
      "cell_type": "markdown",
      "metadata": {
        "id": "xBS9aH7bMHoP"
      },
      "source": [
        "##2. FINDING VALUES OF 'm' AND 'c'"
      ]
    },
    {
      "cell_type": "code",
      "metadata": {
        "id": "N1LM_73Zg09U"
      },
      "source": [
        "mean_x = np.mean (X)\r\n",
        "mean_y = np.mean (Y)"
      ],
      "execution_count": 24,
      "outputs": []
    },
    {
      "cell_type": "code",
      "metadata": {
        "colab": {
          "base_uri": "https://localhost:8080/"
        },
        "id": "zQLCGZRrjFWC",
        "outputId": "fa3ab98a-3ee8-47ff-cc8e-e04db6086a44"
      },
      "source": [
        "print ('Mean of X is - ', mean_x)\r\n",
        "print ('Mean of Y is - ', mean_y)"
      ],
      "execution_count": 25,
      "outputs": [
        {
          "output_type": "stream",
          "text": [
            "Mean of X is -  3633.9915611814345\n",
            "Mean of Y is -  1282.873417721519\n"
          ],
          "name": "stdout"
        }
      ]
    },
    {
      "cell_type": "code",
      "metadata": {
        "colab": {
          "base_uri": "https://localhost:8080/"
        },
        "id": "D_vTcIVdnrUi",
        "outputId": "2856afb5-b3e4-4c6c-e73f-ab18c775967b"
      },
      "source": [
        "n = len (X)\r\n",
        "print (n)"
      ],
      "execution_count": 26,
      "outputs": [
        {
          "output_type": "stream",
          "text": [
            "237\n"
          ],
          "name": "stdout"
        }
      ]
    },
    {
      "cell_type": "code",
      "metadata": {
        "colab": {
          "base_uri": "https://localhost:8080/"
        },
        "id": "tAeX28ZGozVn",
        "outputId": "f159d504-3546-40d2-96a3-c93f782669d0"
      },
      "source": [
        "numer = 0\r\n",
        "denom = 0\r\n",
        "for i in range (n):\r\n",
        "  numer = numer + ((X[i] - mean_x)*(Y[i] - mean_y))\r\n",
        "  denom = denom + ((X[i] - mean_x) **2)\r\n",
        "m = numer/denom\r\n",
        "print ('Slope of best-fitted regression line is - ', m)"
      ],
      "execution_count": 27,
      "outputs": [
        {
          "output_type": "stream",
          "text": [
            "Slope of best-fitted regression line is -  0.26342933948939945\n"
          ],
          "name": "stdout"
        }
      ]
    },
    {
      "cell_type": "code",
      "metadata": {
        "colab": {
          "base_uri": "https://localhost:8080/"
        },
        "id": "pyiT0WCB1Jtu",
        "outputId": "0669391e-1d75-4d85-d750-0e8b42f12ddd"
      },
      "source": [
        "c = mean_y - (m * mean_x)\r\n",
        "print (c)"
      ],
      "execution_count": 28,
      "outputs": [
        {
          "output_type": "stream",
          "text": [
            "325.57342104944223\n"
          ],
          "name": "stdout"
        }
      ]
    },
    {
      "cell_type": "code",
      "metadata": {
        "colab": {
          "base_uri": "https://localhost:8080/"
        },
        "id": "3I3X_doE2MV1",
        "outputId": "172647c6-bd9c-492d-810e-bed1ea96af18"
      },
      "source": [
        "print (m,',',c)"
      ],
      "execution_count": 29,
      "outputs": [
        {
          "output_type": "stream",
          "text": [
            "0.26342933948939945 , 325.57342104944223\n"
          ],
          "name": "stdout"
        }
      ]
    },
    {
      "cell_type": "markdown",
      "metadata": {
        "id": "mnEWZOQj1ice"
      },
      "source": [
        "## 3. MODEL RESULTS"
      ]
    },
    {
      "cell_type": "code",
      "metadata": {
        "id": "L1fotn3b1tui"
      },
      "source": [
        "max_x = np.max (X) + 100\r\n",
        "min_x = np.min (X) - 100\r\n",
        "x = np.linspace (min_x, max_x, 1000)\r\n",
        "y = (m * x) + c"
      ],
      "execution_count": 31,
      "outputs": []
    },
    {
      "cell_type": "markdown",
      "metadata": {
        "id": "V7pnc5S22_kW"
      },
      "source": [
        "3.1 REGRESSION LINE (LINE PLOT)"
      ]
    },
    {
      "cell_type": "code",
      "metadata": {
        "colab": {
          "base_uri": "https://localhost:8080/",
          "height": 299
        },
        "id": "TWRuT1Oc3DUX",
        "outputId": "56a86af4-b43b-4f24-d019-b326d9210b91"
      },
      "source": [
        "plt.plot (x, y, color = 'blue')\r\n",
        "plt.title ('Best-Fitted Regression Line')"
      ],
      "execution_count": 36,
      "outputs": [
        {
          "output_type": "execute_result",
          "data": {
            "text/plain": [
              "Text(0.5, 1.0, 'Best-Fitted Regression Line')"
            ]
          },
          "metadata": {
            "tags": []
          },
          "execution_count": 36
        },
        {
          "output_type": "display_data",
          "data": {
            "image/png": "[encoded data removed]",
            "text/plain": [
              "<Figure size 432x288 with 1 Axes>"
            ]
          },
          "metadata": {
            "tags": [],
            "needs_background": "light"
          }
        }
      ]
    },
    {
      "cell_type": "markdown",
      "metadata": {
        "id": "JM1YQf9qFsRS"
      },
      "source": [
        "3.2 SCATTER PLOT"
      ]
    },
    {
      "cell_type": "code",
      "metadata": {
        "colab": {
          "base_uri": "https://localhost:8080/",
          "height": 279
        },
        "id": "MznREOsGFuda",
        "outputId": "7d471bd3-e4d8-448f-b70d-937c50277a19"
      },
      "source": [
        "plt.scatter (X, Y, color = 'red', label = 'scatter plot')\r\n",
        "plt.plot (x, y, color = 'blue', label = 'regression line')\r\n",
        "plt.xlabel ('Head Size (cm^3)')\r\n",
        "plt.ylabel ('Brain Weight (grams)')\r\n",
        "plt.legend ()\r\n",
        "plt.show ()"
      ],
      "execution_count": 35,
      "outputs": [
        {
          "output_type": "display_data",
          "data": {
            "image/png": "[encoded data removed]",
            "text/plain": [
              "<Figure size 432x288 with 1 Axes>"
            ]
          },
          "metadata": {
            "tags": [],
            "needs_background": "light"
          }
        }
      ]
    },
    {
      "cell_type": "markdown",
      "metadata": {
        "id": "AC0cnGWBJKZ3"
      },
      "source": [
        "## 4. ACCURACY OF MODEL"
      ]
    },
    {
      "cell_type": "code",
      "metadata": {
        "id": "BkLCQHKKJPIV"
      },
      "source": [
        "ss_t=0\r\n",
        "ss_r=0"
      ],
      "execution_count": 37,
      "outputs": []
    },
    {
      "cell_type": "code",
      "metadata": {
        "colab": {
          "base_uri": "https://localhost:8080/"
        },
        "id": "1pSIYeZpKO5Q",
        "outputId": "339b1c08-f5fd-4259-a109-0002bb411aa9"
      },
      "source": [
        "for i in range (n):\r\n",
        "    y_pred = c + m * X[i]\r\n",
        "    ss_r = ss_r + ((y_pred-Y[i]) **2)\r\n",
        "    ss_t = ss_t + ((Y[i]-mean_y) **2)\r\n",
        "r2 = 1 - (ss_r/ss_t)\r\n",
        "print(r2)"
      ],
      "execution_count": 38,
      "outputs": [
        {
          "output_type": "stream",
          "text": [
            "0.6393117199570003\n"
          ],
          "name": "stdout"
        }
      ]
    }
  ]
}