{
  "nbformat": 4,
  "nbformat_minor": 0,
  "metadata": {
    "colab": {
      "name": "Lin_Reg_2_(without sklearn).ipynb",
      "provenance": [],
      "authorship_tag": "ABX9TyNhPqwPoLGsOaoCe23mmus9",
      "include_colab_link": true
    },
    "kernelspec": {
      "name": "python3",
      "display_name": "Python 3"
    }
  },
  "cells": [
    {
      "cell_type": "markdown",
      "metadata": {
        "id": "view-in-github",
        "colab_type": "text"
      },
      "source": [
        "<a href=\"https://colab.research.google.com/github/SidharrthSingh25/Sem_4_ML-AI/blob/main/Lin_Reg_2_(without_sklearn).ipynb\" target=\"_parent\"><img src=\"https://colab.research.google.com/assets/colab-badge.svg\" alt=\"Open In Colab\"/></a>"
      ]
    },
    {
      "cell_type": "markdown",
      "metadata": {
        "id": "D10sKEzpHxDG"
      },
      "source": [
        "## 1. DATA PREPROCESSING"
      ]
    },
    {
      "cell_type": "markdown",
      "metadata": {
        "id": "HKLRKNrpH4Vg"
      },
      "source": [
        "1.1 IMPORTING LIBRARIES"
      ]
    },
    {
      "cell_type": "code",
      "metadata": {
        "id": "gqLf4dVrHrlx"
      },
      "source": [
        "import numpy as np\r\n",
        "import matplotlib.pyplot as plt\r\n",
        "import pandas as pd"
      ],
      "execution_count": 6,
      "outputs": []
    },
    {
      "cell_type": "markdown",
      "metadata": {
        "id": "9yYxr4T1IBNy"
      },
      "source": [
        "1.2 IMPORTING DATASETS"
      ]
    },
    {
      "cell_type": "code",
      "metadata": {
        "id": "SmowP9rvIEXO"
      },
      "source": [
        "dataset = pd.read_csv ('Linear_reg_iris.csv - Linear_reg_iris.csv.csv')\r\n",
        "X = dataset.iloc [ : , 0].values\r\n",
        "Y = dataset.iloc [ : , -1].values"
      ],
      "execution_count": 7,
      "outputs": []
    },
    {
      "cell_type": "code",
      "metadata": {
        "colab": {
          "base_uri": "https://localhost:8080/"
        },
        "id": "Mkmk2agKIRbj",
        "outputId": "01ec9531-cc93-4240-a938-ce8a70a64892"
      },
      "source": [
        "print (dataset)"
      ],
      "execution_count": 8,
      "outputs": [
        {
          "output_type": "stream",
          "text": [
            "        X      Y\n",
            "0    0.08  1.472\n",
            "1    0.52  1.802\n",
            "2    0.60  1.548\n",
            "3    0.22  1.390\n",
            "4    0.05  2.141\n",
            "..    ...    ...\n",
            "995  0.41  2.245\n",
            "996  0.71  3.471\n",
            "997  0.06  0.796\n",
            "998  0.40  2.406\n",
            "999  0.48  1.870\n",
            "\n",
            "[1000 rows x 2 columns]\n"
          ],
          "name": "stdout"
        }
      ]
    },
    {
      "cell_type": "code",
      "metadata": {
        "colab": {
          "base_uri": "https://localhost:8080/"
        },
        "id": "1UJ1Z3Q9IRes",
        "outputId": "9200f4a8-317d-4363-df6c-076fbd1cbb08"
      },
      "source": [
        "print (X)"
      ],
      "execution_count": 9,
      "outputs": [
        {
          "output_type": "stream",
          "text": [
            "[0.08 0.52 0.6  0.22 0.05 0.59 0.94 0.39 0.52 0.31 0.69 0.46 0.76 0.39\n",
            " 0.37 0.78 0.39 0.33 0.72 0.88 0.26 0.2  0.75 0.46 0.95 0.86 0.05 0.72\n",
            " 0.06 0.99 0.97 0.93 0.12 0.66 0.4  0.37 0.31 0.88 0.26 0.34 0.69 0.72\n",
            " 0.41 0.78 0.06 0.07 0.44 0.92 0.85 0.75 0.41 0.3  0.61 0.51 0.73 0.81\n",
            " 0.85 0.1  0.59 0.75 0.51 0.11 0.85 0.55 0.4  0.96 0.22 0.37 0.42 0.85\n",
            " 0.53 0.81 0.31 0.14 0.99 0.38 0.72 0.08 0.32 0.28 0.37 0.41 0.42 0.15\n",
            " 0.79 0.08 0.68 0.07 0.78 0.49 0.47 0.3  0.06 0.07 0.99 0.91 0.66 1.\n",
            " 0.36 0.2  0.7  0.58 0.49 0.9  0.36 0.12 0.15 0.5  0.47 0.2  0.14 0.72\n",
            " 0.84 0.83 0.76 0.93 0.28 0.76 0.73 0.43 0.47 0.13 0.32 0.21 0.92 0.82\n",
            " 0.42 0.62 0.45 0.66 0.15 0.61 0.71 0.2  0.87 0.28 0.14 0.67 0.81 0.64\n",
            " 0.84 0.62 0.72 0.65 0.2  0.3  0.82 0.4  0.1  0.62 0.66 0.06 0.6  0.47\n",
            " 0.25 0.44 0.85 0.61 0.3  0.45 0.8  0.78 0.72 0.1  0.01 0.61 0.33 0.01\n",
            " 0.3  0.28 0.64 0.21 0.05 0.48 0.14 0.53 0.45 0.1  0.31 0.   0.75 0.39\n",
            " 0.79 0.73 0.37 0.74 0.17 0.63 0.88 0.21 0.63 0.71 0.72 0.33 0.67 0.7\n",
            " 0.24 0.9  0.75 0.68 0.8  0.04 0.16 0.61 0.15 0.83 0.39 0.43 0.86 0.87\n",
            " 0.25 0.33 0.55 0.94 0.08 0.56 0.21 0.84 0.3  0.4  0.57 0.36 0.47 0.35\n",
            " 0.44 0.93 1.   0.83 0.42 0.72 0.64 0.82 0.19 0.79 0.54 0.73 0.03 0.81\n",
            " 0.79 0.89 0.76 0.96 0.5  0.04 0.23 0.14 0.94 0.9  0.38 0.25 0.11 0.41\n",
            " 0.32 0.88 0.66 0.8  0.49 0.39 0.25 0.61 0.88 0.56 0.61 0.81 0.03 0.06\n",
            " 0.74 0.01 0.84 0.68 0.58 0.5  0.4  0.76 0.9  0.89 0.8  0.94 0.7  0.22\n",
            " 0.4  0.15 0.28 0.72 0.92 0.26 0.24 0.79 0.61 0.77 0.71 0.52 0.19 0.25\n",
            " 0.58 0.34 0.09 0.75 0.83 0.   0.47 0.14 0.58 0.74 0.56 0.02 0.13 0.79\n",
            " 0.81 0.78 0.1  0.49 0.34 0.98 0.13 0.06 0.27 0.53 0.15 0.34 0.33 0.41\n",
            " 0.28 0.96 0.61 0.25 0.79 0.42 0.35 0.65 0.59 0.41 0.01 0.36 0.09 0.31\n",
            " 0.11 0.39 0.64 0.28 0.78 0.88 0.12 0.07 0.09 0.7  0.26 0.49 0.89 0.06\n",
            " 0.75 0.1  0.2  0.43 0.68 0.08 0.26 0.06 0.33 0.41 0.52 0.46 0.56 0.66\n",
            " 0.32 0.28 0.06 0.15 0.52 0.39 0.7  0.81 0.58 0.25 0.82 0.11 0.76 0.05\n",
            " 0.99 0.35 0.15 0.71 0.53 0.39 0.59 0.96 0.13 0.01 0.09 0.85 0.07 0.81\n",
            " 0.94 0.16 0.63 0.16 0.88 0.2  0.95 0.65 0.03 0.75 0.12 0.42 0.26 0.72\n",
            " 0.28 0.26 0.68 0.97 0.66 0.36 0.12 0.78 0.13 0.87 0.64 0.5  0.56 0.33\n",
            " 0.7  0.21 0.68 0.23 0.93 0.92 0.48 0.09 0.83 0.   0.95 0.7  0.25 0.56\n",
            " 0.79 0.41 0.17 0.76 0.35 0.43 0.54 0.36 0.28 0.59 0.05 0.56 0.77 0.77\n",
            " 0.8  0.03 0.96 0.45 0.27 0.32 0.68 0.81 0.27 0.82 0.91 0.31 0.77 0.66\n",
            " 0.12 0.22 0.67 0.08 0.02 0.3  0.84 0.57 0.5  0.62 0.89 0.37 0.08 0.07\n",
            " 0.35 0.38 0.52 0.3  0.76 0.87 0.36 0.27 0.03 0.24 0.46 0.03 0.95 0.65\n",
            " 0.9  0.92 0.36 0.2  0.49 0.36 0.58 0.95 0.11 0.31 0.91 0.66 0.11 0.97\n",
            " 0.69 0.73 0.27 0.13 0.44 0.13 0.41 0.48 0.25 0.12 0.82 0.51 0.47 0.34\n",
            " 0.59 0.03 0.57 0.49 0.7  0.58 0.1  0.59 0.28 0.53 0.91 0.38 0.15 0.41\n",
            " 0.1  0.89 0.56 0.16 0.96 0.65 1.   0.25 0.68 0.48 0.93 0.36 0.13 0.13\n",
            " 0.34 0.   0.48 0.35 0.41 0.7  0.1  0.84 0.53 0.41 0.81 0.93 0.7  0.81\n",
            " 0.66 0.33 0.1  0.78 0.87 0.7  0.62 0.42 0.48 0.93 0.48 0.7  0.98 1.\n",
            " 0.38 0.59 0.68 0.53 0.3  0.76 0.03 0.59 0.07 0.61 0.83 0.75 0.94 0.65\n",
            " 0.58 0.37 0.27 0.89 0.19 0.85 0.56 0.37 0.85 0.24 0.99 0.18 0.36 0.56\n",
            " 0.61 0.8  0.81 0.01 0.88 0.89 0.95 0.02 0.08 0.7  0.42 0.83 0.64 0.65\n",
            " 0.56 0.46 0.29 0.1  0.58 0.27 0.   0.9  0.82 0.04 0.52 0.84 0.63 0.82\n",
            " 0.31 0.8  0.83 0.82 0.57 0.25 0.65 0.65 0.17 0.78 0.96 0.51 0.34 0.96\n",
            " 0.07 0.24 0.11 0.77 0.96 0.37 0.49 0.5  0.64 0.28 0.2  0.97 0.06 0.08\n",
            " 0.06 0.17 0.24 0.45 0.14 0.61 0.66 0.44 0.76 0.57 0.73 0.14 0.18 0.42\n",
            " 0.44 0.41 0.59 0.57 0.01 0.61 0.64 0.31 0.88 0.92 0.31 0.01 0.92 0.22\n",
            " 0.67 0.64 0.66 0.27 0.48 0.04 0.73 0.72 0.86 0.75 0.76 0.56 0.53 0.51\n",
            " 0.33 0.4  0.46 0.83 0.33 0.84 0.45 0.72 0.98 0.77 0.1  0.77 0.34 0.88\n",
            " 0.32 0.51 0.74 0.77 0.01 0.57 0.61 0.1  0.8  0.21 0.1  0.96 0.77 0.81\n",
            " 0.11 0.41 0.97 0.68 0.81 0.9  0.87 0.42 0.06 0.59 0.   0.93 0.11 0.98\n",
            " 0.69 0.8  0.74 0.6  0.62 0.36 0.97 0.06 0.11 0.72 0.45 0.6  0.74 0.82\n",
            " 0.47 0.57 0.99 0.3  0.46 0.18 0.57 0.74 0.73 0.91 0.16 0.23 0.37 0.28\n",
            " 0.81 0.98 0.45 0.07 0.39 0.7  0.49 0.05 0.46 0.89 0.03 0.39 0.98 0.98\n",
            " 0.94 0.   0.05 0.7  0.52 0.64 0.27 0.15 0.65 0.47 0.23 0.69 0.9  0.83\n",
            " 0.95 0.3  0.03 0.43 0.95 0.99 0.01 0.38 0.87 0.36 0.88 0.92 0.31 0.35\n",
            " 0.2  0.33 0.9  0.48 0.72 0.67 0.88 0.35 0.54 0.6  0.11 0.27 0.9  0.45\n",
            " 0.04 0.43 0.4  0.64 0.83 0.74 0.43 0.22 0.38 0.37 0.29 0.28 0.8  0.71\n",
            " 0.67 0.13 0.04 0.53 0.41 0.31 0.86 0.17 0.6  0.34 0.98 0.34 0.81 0.9\n",
            " 0.43 0.33 0.62 0.32 0.33 0.82 0.83 0.23 0.39 0.16 0.08 0.28 0.05 0.73\n",
            " 0.98 0.14 0.2  0.97 0.78 0.19 0.81 0.47 0.58 0.36 0.53 0.14 0.87 0.12\n",
            " 0.79 0.69 0.4  0.83 0.02 0.58 0.67 0.79 0.02 0.22 0.85 0.95 0.4  0.77\n",
            " 0.27 0.07 0.61 0.41 0.17 0.55 0.02 0.37 0.41 0.6  0.32 0.73 0.9  0.04\n",
            " 0.33 0.09 0.62 0.62 0.05 0.8  0.07 0.35 0.62 0.63 0.6  0.21 0.04 0.07\n",
            " 0.74 0.75 0.56 0.8  0.32 0.36 0.88 0.22 0.04 0.51 0.82 0.75 0.63 0.04\n",
            " 0.85 0.09 0.7  0.59 0.3  0.22 0.43 0.02 0.92 0.97 0.52 0.11 0.4  0.02\n",
            " 0.25 0.66 0.26 0.98 0.11 0.21 0.46 0.25 0.55 0.3  0.27 0.96 0.93 0.69\n",
            " 0.15 0.67 0.07 0.93 0.97 0.75 0.84 0.03 0.4  0.96 0.45 0.42 0.47 0.94\n",
            " 0.27 0.44 0.51 0.86 0.98 0.44 0.37 0.94 0.02 0.26 0.74 0.99 0.59 0.24\n",
            " 0.4  0.41 0.71 0.06 0.4  0.48]\n"
          ],
          "name": "stdout"
        }
      ]
    },
    {
      "cell_type": "code",
      "metadata": {
        "colab": {
          "base_uri": "https://localhost:8080/"
        },
        "id": "A2xJRgarIRp8",
        "outputId": "d88a0de1-336e-4d30-c66c-9f39b50f0c93"
      },
      "source": [
        "print (Y)"
      ],
      "execution_count": 10,
      "outputs": [
        {
          "output_type": "stream",
          "text": [
            "[1.472 1.802 1.548 1.39  2.141 3.541 3.898 2.699 2.152 1.325 3.647 2.476\n",
            " 3.164 3.257 0.869 1.994 2.573 3.313 3.478 3.426 3.216 0.48  3.495 1.518\n",
            " 4.245 3.172 2.895 4.004 2.074 2.791 3.233 3.099 0.72  2.54  2.146 3.357\n",
            " 0.649 1.706 1.278 2.712 2.059 3.956 3.215 3.048 2.43  2.377 1.62  4.268\n",
            " 3.583 3.595 2.801 2.712 2.507 2.965 3.041 2.799 3.169 1.528 3.563 2.389\n",
            " 1.537 2.877 2.361 2.433 3.256 3.746 1.848 1.135 3.762 3.235 2.887 3.719\n",
            " 2.321 1.212 3.917 2.352 2.42  1.766 2.2   2.786 1.859 1.139 3.296 1.791\n",
            " 3.073 1.95  1.632 1.561 3.318 1.781 2.563 1.564 0.94  2.835 2.693 2.723\n",
            " 2.37  4.032 3.474 2.224 2.972 1.654 3.485 3.49  1.158 1.394 2.509 2.964\n",
            " 1.535 3.064 1.508 3.416 3.814 2.949 2.452 2.957 1.428 2.532 3.089 0.937\n",
            " 3.429 1.061 1.988 1.247 2.784 3.706 1.294 1.714 2.581 3.512 1.757 2.193\n",
            " 2.659 1.366 2.979 1.996 1.948 1.779 2.343 3.24  3.126 3.414 2.398 2.423\n",
            " 1.614 2.07  3.28  3.036 0.332 2.702 3.75  2.146 2.766 3.421 1.571 2.844\n",
            " 2.129 1.861 1.688 1.275 4.522 2.402 3.326 1.09  0.433 2.633 2.517 2.227\n",
            " 0.68  0.94  2.412 1.907 1.881 2.04  2.586 4.199 1.791 1.758 2.053 1.684\n",
            " 2.699 2.131 3.035 3.035 3.631 2.44  2.701 2.733 3.164 2.831 3.205 2.959\n",
            " 4.004 2.125 2.643 3.06  2.378 2.726 2.487 2.602 3.084 0.254 2.788 2.803\n",
            " 0.531 4.495 2.689 1.773 2.972 2.809 2.087 1.929 2.911 2.868 1.1   2.706\n",
            " 2.925 4.268 3.562 1.95  3.523 3.116 1.697 1.669 2.702 3.793 4.54  2.243\n",
            " 3.392 2.83  2.964 3.348 2.019 3.223 2.58  2.175 1.759 3.405 1.791 3.371\n",
            " 4.02  3.454 2.816 2.868 2.217 1.14  3.102 3.384 1.834 1.683 1.707 2.781\n",
            " 3.684 1.902 3.248 2.49  2.663 2.321 2.399 3.071 4.732 2.034 1.381 2.937\n",
            " 1.189 1.024 3.382 1.501 3.674 3.082 2.592 2.766 2.196 3.85  4.312 4.479\n",
            " 2.634 4.23  2.84  0.94  1.83  0.931 1.694 3.424 4.19  3.288 1.412 3.543\n",
            " 3.993 4.603 1.723 4.108 1.541 1.571 1.912 2.878 3.107 2.059 3.017 1.468\n",
            " 2.481 1.414 3.136 2.744 3.712 0.636 1.819 1.775 4.323 1.794 2.672 2.327\n",
            " 1.952 3.336 1.715 1.624 2.523 2.761 1.567 3.79  2.675 3.163 2.508 3.2\n",
            " 2.753 2.723 2.403 2.048 2.909 2.857 1.503 1.961 2.459 2.634 2.219 2.501\n",
            " 0.667 2.305 3.01  1.84  2.176 2.796 0.856 1.851 0.777 2.9   3.004 1.519\n",
            " 3.749 2.368 4.191 1.788 1.854 3.433 3.594 0.924 1.744 2.946 3.069 2.073\n",
            " 3.182 3.266 2.924 3.288 2.132 2.052 1.498 2.469 1.52  1.459 3.686 3.615\n",
            " 1.65  3.037 2.71  1.953 2.278 2.343 4.673 1.683 0.601 2.567 2.275 1.981\n",
            " 2.553 4.502 2.107 1.557 2.991 3.791 0.089 3.787 3.674 0.928 3.249 1.088\n",
            " 3.714 2.742 2.593 2.691 2.353 3.095 1.366 2.676 1.718 4.128 1.274 3.002\n",
            " 3.058 2.937 2.148 3.134 2.256 4.292 2.791 4.509 1.8   1.122 3.372 2.597\n",
            " 2.06  1.593 3.264 2.889 2.539 3.492 2.446 0.619 3.349 1.65  3.995 3.292\n",
            " 2.529 3.45  3.867 2.857 3.261 2.042 2.943 2.323 3.082 3.714 2.146 3.503\n",
            " 1.697 3.676 4.031 3.031 2.724 0.907 4.678 1.197 1.999 3.134 2.978 3.039\n",
            " 1.611 2.054 2.495 1.839 3.009 3.362 1.726 2.364 3.229 1.322 1.69  2.252\n",
            " 3.164 2.087 3.374 2.958 2.411 1.525 3.052 1.861 3.141 2.814 1.646 2.544\n",
            " 2.084 4.609 1.778 1.061 2.599 1.584 1.4   1.875 3.835 2.165 2.988 3.166\n",
            " 1.618 2.284 3.499 0.838 2.246 2.025 2.083 2.385 4.255 2.172 1.425 3.535\n",
            " 2.779 2.905 2.039 1.967 3.528 2.433 1.817 2.756 1.997 1.514 3.514 2.799\n",
            " 2.599 2.708 3.331 2.263 3.383 2.901 2.156 2.584 2.74  3.353 0.636 2.901\n",
            " 2.991 2.976 1.327 2.435 2.1   2.701 3.424 1.354 3.754 3.273 2.92  2.081\n",
            " 1.81  3.764 3.755 2.02  3.197 2.125 1.914 2.706 2.168 0.881 2.943 2.376\n",
            " 0.406 3.172 1.787 1.825 2.775 2.877 3.546 2.895 2.41  2.725 2.78  1.814\n",
            " 3.017 3.398 2.676 3.88  2.038 3.359 1.428 2.348 3.61  2.626 3.258 2.499\n",
            " 3.814 2.575 1.77  2.682 2.969 3.345 0.935 1.931 3.219 2.465 2.65  2.195\n",
            " 2.206 2.693 1.027 4.935 3.431 3.101 2.13  2.991 1.815 1.864 3.723 1.498\n",
            " 2.522 2.618 4.261 3.732 4.581 1.119 3.142 3.931 3.583 1.238 1.304 2.154\n",
            " 1.54  3.715 2.648 3.461 2.562 1.906 2.021 2.386 1.182 2.413 0.956 5.018\n",
            " 2.812 1.654 2.374 3.084 3.729 2.94  0.717 3.914 2.677 3.48  4.153 2.771\n",
            " 3.487 1.613 1.179 2.582 2.948 3.133 1.098 4.008 1.745 1.58  2.519 3.643\n",
            " 4.27  2.835 3.161 1.808 3.21  1.278 1.836 2.555 1.594 1.288 0.436 2.305\n",
            " 2.878 1.563 1.508 2.449 4.18  2.746 3.674 3.811 1.571 1.824 0.81  2.484\n",
            " 3.3   2.283 3.131 1.879 1.137 3.513 2.574 3.015 2.732 3.224 1.477 1.573\n",
            " 3.268 1.692 1.575 4.374 2.088 1.955 3.046 1.118 2.915 2.948 3.618 2.835\n",
            " 4.026 1.942 1.593 1.369 1.361 1.716 3.538 4.123 3.617 3.222 2.887 2.532\n",
            " 4.816 2.735 1.216 2.277 1.244 3.23  1.464 3.503 4.534 2.467 1.447 2.415\n",
            " 4.165 0.85  3.174 2.693 2.186 3.084 2.333 4.047 0.785 2.493 3.909 2.598\n",
            " 2.539 2.962 2.855 3.166 2.252 2.187 1.69  4.433 1.519 2.78  3.621 2.958\n",
            " 3.886 2.484 1.24  1.668 4.493 0.876 2.177 3.692 3.485 2.496 1.748 3.226\n",
            " 3.425 3.593 2.337 2.748 3.398 2.616 3.533 3.424 3.471 1.973 3.118 1.847\n",
            " 2.077 1.246 3.809 3.662 1.479 1.557 2.917 2.672 2.331 2.113 2.08  4.067\n",
            " 2.231 2.367 4.458 4.17  3.658 1.116 1.763 2.588 1.968 2.408 2.415 0.757\n",
            " 2.743 2.969 0.571 3.063 2.162 2.673 2.959 2.328 1.525 3.707 2.127 2.391\n",
            " 1.335 1.642 1.793 2.544 4.068 4.32  1.307 3.493 0.974 1.947 2.844 1.746\n",
            " 3.536 3.155 2.884 1.301 3.672 2.362 1.289 1.223 3.272 2.799 1.724 3.569\n",
            " 3.39  3.32  4.047 3.212 3.053 2.174 3.336 2.611 2.885 1.812 3.392 3.835\n",
            " 2.533 2.227 0.956 3.143 2.839 2.879 3.038 1.381 2.84  1.48  3.96  2.396\n",
            " 4.185 3.22  1.799 2.585 2.304 1.282 3.049 3.28  4.079 3.407 1.753 3.122\n",
            " 0.772 1.194 0.121 2.143 3.632 3.148 0.86  4.577 4.044 2.849 2.567 1.235\n",
            " 2.45  3.022 3.121 1.01  3.937 0.95  3.367 1.831 1.538 2.393 1.894 2.55\n",
            " 2.549 3.299 1.77  2.114 3.473 3.673 3.228 4.087 2.569 1.149 3.185 1.147\n",
            " 1.187 3.611 2.142 2.019 1.365 2.798 1.378 2.227 3.186 0.65  1.567 0.871\n",
            " 3.976 3.586 1.433 3.974 0.863 1.753 2.374 2.335 3.304 3.121 1.114 1.243\n",
            " 2.626 1.653 3.392 2.216 2.716 1.986 2.612 0.704 1.854 3.165 2.102 3.163\n",
            " 2.529 2.058 2.079 0.835 1.844 3.077 3.02  1.124 3.015 1.404 3.204 3.319\n",
            " 1.628 1.585 2.366 1.298 3.175 2.71  2.566 4.392 1.281 2.621 3.134 2.653\n",
            " 3.143 1.37  1.435 3.674 3.569 2.655 3.333 2.485 1.899 4.157 3.027 3.233\n",
            " 3.12  1.171 3.226 3.108 2.755 2.042 1.931 3.818 2.675 2.294 3.199 2.434\n",
            " 2.588 1.954 1.791 3.434 1.98  2.644 3.658 4.033 2.041 1.436 3.31  2.245\n",
            " 3.471 0.796 2.406 1.87 ]\n"
          ],
          "name": "stdout"
        }
      ]
    },
    {
      "cell_type": "markdown",
      "metadata": {
        "id": "j6go6XM5JNIa"
      },
      "source": [
        "## 2. FINDING VALUES OF 'm' AND 'c'"
      ]
    },
    {
      "cell_type": "code",
      "metadata": {
        "id": "HSirKMedJRvN"
      },
      "source": [
        "mean_x = np.mean (X)\r\n",
        "mean_y = np.mean (Y)"
      ],
      "execution_count": 11,
      "outputs": []
    },
    {
      "cell_type": "code",
      "metadata": {
        "colab": {
          "base_uri": "https://localhost:8080/"
        },
        "id": "J0XD5nbiJYHo",
        "outputId": "b8927b74-5fa0-44ae-efbb-15a7b837c6d3"
      },
      "source": [
        "print ('Mean of X is - ', mean_x)\r\n",
        "print ('Mean of Y is - ', mean_y)"
      ],
      "execution_count": 13,
      "outputs": [
        {
          "output_type": "stream",
          "text": [
            "Mean of X is -  0.5014799999999999\n",
            "Mean of Y is -  2.54638\n"
          ],
          "name": "stdout"
        }
      ]
    },
    {
      "cell_type": "code",
      "metadata": {
        "colab": {
          "base_uri": "https://localhost:8080/"
        },
        "id": "j7IqbuxLJmNK",
        "outputId": "0c24d591-579d-44d4-f8e3-aa939710c318"
      },
      "source": [
        "n = len (X)\r\n",
        "print (n)"
      ],
      "execution_count": 14,
      "outputs": [
        {
          "output_type": "stream",
          "text": [
            "1000\n"
          ],
          "name": "stdout"
        }
      ]
    },
    {
      "cell_type": "code",
      "metadata": {
        "colab": {
          "base_uri": "https://localhost:8080/"
        },
        "id": "cMSoqMwhJqF4",
        "outputId": "c5de7f20-6238-4aa1-bc84-b21b1247072d"
      },
      "source": [
        "numer = 0\r\n",
        "denom = 0\r\n",
        "for i in range (n):\r\n",
        "  numer = numer + ((X[i] - mean_x)*(Y[i] - mean_y))\r\n",
        "  denom = denom + ((X[i] - mean_x) **2)\r\n",
        "m = numer/denom\r\n",
        "print ('Slope of best-fitted regression line is - ', m)"
      ],
      "execution_count": 15,
      "outputs": [
        {
          "output_type": "stream",
          "text": [
            "Slope of best-fitted regression line is -  2.005677606877187\n"
          ],
          "name": "stdout"
        }
      ]
    },
    {
      "cell_type": "code",
      "metadata": {
        "colab": {
          "base_uri": "https://localhost:8080/"
        },
        "id": "FQeYpw_3KLy2",
        "outputId": "6d1091f3-c214-4eb1-dc8c-82a13e7062a1"
      },
      "source": [
        "c = mean_y - (m * mean_x)\r\n",
        "print (c)"
      ],
      "execution_count": 16,
      "outputs": [
        {
          "output_type": "stream",
          "text": [
            "1.5405727937032285\n"
          ],
          "name": "stdout"
        }
      ]
    },
    {
      "cell_type": "code",
      "metadata": {
        "colab": {
          "base_uri": "https://localhost:8080/"
        },
        "id": "KLBo026KKdOo",
        "outputId": "a7565e98-c17c-4658-ed85-0a470effa550"
      },
      "source": [
        "print (m, ',', c)"
      ],
      "execution_count": 17,
      "outputs": [
        {
          "output_type": "stream",
          "text": [
            "2.005677606877187 , 1.5405727937032285\n"
          ],
          "name": "stdout"
        }
      ]
    },
    {
      "cell_type": "markdown",
      "metadata": {
        "id": "goRNgqcNKlSf"
      },
      "source": [
        "## 3. MODEL RESULTS"
      ]
    },
    {
      "cell_type": "code",
      "metadata": {
        "id": "lPNDqaoYKuNx"
      },
      "source": [
        "max_x = np.max (X) + 0.1\r\n",
        "min_x = np.min (X) - 0.1\r\n",
        "x = np.linspace (min_x, max_x, 1000)\r\n",
        "y = (m * x) + c"
      ],
      "execution_count": 19,
      "outputs": []
    },
    {
      "cell_type": "markdown",
      "metadata": {
        "id": "gjE-FEUqMpgz"
      },
      "source": [
        "3.1 REGRESSION LINE (LINE PLOT)"
      ]
    },
    {
      "cell_type": "code",
      "metadata": {
        "colab": {
          "base_uri": "https://localhost:8080/",
          "height": 299
        },
        "id": "ISA0abIbN0Pq",
        "outputId": "b4bb5153-2863-43a7-b0be-db9bacff65bd"
      },
      "source": [
        "plt.plot (x, y, color = 'blue')\r\n",
        "plt.title ('Best-Fitted Regression Line')"
      ],
      "execution_count": 20,
      "outputs": [
        {
          "output_type": "execute_result",
          "data": {
            "text/plain": [
              "Text(0.5, 1.0, 'Best-Fitted Regression Line')"
            ]
          },
          "metadata": {
            "tags": []
          },
          "execution_count": 20
        },
        {
          "output_type": "display_data",
          "data": {
            "image/png": "[encoded data removed]",
            "text/plain": [
              "<Figure size 432x288 with 1 Axes>"
            ]
          },
          "metadata": {
            "tags": [],
            "needs_background": "light"
          }
        }
      ]
    },
    {
      "cell_type": "markdown",
      "metadata": {
        "id": "3D4e2W_jOLJ8"
      },
      "source": [
        "3.2 SCATTER PLOT"
      ]
    },
    {
      "cell_type": "code",
      "metadata": {
        "colab": {
          "base_uri": "https://localhost:8080/",
          "height": 279
        },
        "id": "B0GwKXslOM8O",
        "outputId": "1369ae51-0431-4bc8-c12a-0e312c0600de"
      },
      "source": [
        "plt.scatter (X, Y, color = 'red', label = 'scatter plot')\r\n",
        "plt.plot (x, y, color = 'blue', label = 'regression line')\r\n",
        "plt.xlabel ('X')\r\n",
        "plt.ylabel ('Y')\r\n",
        "plt.legend ()\r\n",
        "plt.show ()"
      ],
      "execution_count": 21,
      "outputs": [
        {
          "output_type": "display_data",
          "data": {
            "image/png": "[encoded data removed]",
            "text/plain": [
              "<Figure size 432x288 with 1 Axes>"
            ]
          },
          "metadata": {
            "tags": [],
            "needs_background": "light"
          }
        }
      ]
    },
    {
      "cell_type": "markdown",
      "metadata": {
        "id": "j2icY6gjOXXY"
      },
      "source": [
        "## 4. ACCURACY OF MODEL"
      ]
    },
    {
      "cell_type": "code",
      "metadata": {
        "id": "TNauTN_rOd0s"
      },
      "source": [
        "ss_t=0\r\n",
        "ss_r=0"
      ],
      "execution_count": 22,
      "outputs": []
    },
    {
      "cell_type": "code",
      "metadata": {
        "colab": {
          "base_uri": "https://localhost:8080/"
        },
        "id": "JPVib1kLOgX4",
        "outputId": "ef3508fe-a37b-4686-8352-5d58b3274ab3"
      },
      "source": [
        "for i in range (n):\r\n",
        "    y_pred = c + m * X[i]\r\n",
        "    ss_r = ss_r + ((y_pred-Y[i]) **2)\r\n",
        "    ss_t = ss_t + ((Y[i]-mean_y) **2)\r\n",
        "r2 = 1 - (ss_r/ss_t)\r\n",
        "print(r2)"
      ],
      "execution_count": 23,
      "outputs": [
        {
          "output_type": "stream",
          "text": [
            "0.39066454503533876\n"
          ],
          "name": "stdout"
        }
      ]
    }
  ]
}